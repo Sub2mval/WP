{
  "nbformat": 4,
  "nbformat_minor": 0,
  "metadata": {
    "colab": {
      "provenance": [],
      "authorship_tag": "ABX9TyO6JSXjOIC+wky5xWAuyP/D",
      "include_colab_link": true
    },
    "kernelspec": {
      "name": "python3",
      "display_name": "Python 3"
    },
    "language_info": {
      "name": "python"
    }
  },
  "cells": [
    {
      "cell_type": "markdown",
      "metadata": {
        "id": "view-in-github",
        "colab_type": "text"
      },
      "source": [
        "<a href=\"https://colab.research.google.com/github/Sub2mval/WP/blob/main/ENc.ipynb\" target=\"_parent\"><img src=\"https://colab.research.google.com/assets/colab-badge.svg\" alt=\"Open In Colab\"/></a>"
      ]
    },
    {
      "cell_type": "code",
      "execution_count": 1,
      "metadata": {
        "id": "IMSCfjSf4xqm"
      },
      "outputs": [],
      "source": [
        "from datetime import datetime, timedelta\n",
        "from sys import byteorder\n",
        "from time import perf_counter\n",
        "from os.path import exists, getsize\n",
        "from random import choices\n",
        "from hashlib import sha512\n",
        "from zlib import compress, decompress\n",
        "from multiprocessing import Pool, cpu_count"
      ]
    },
    {
      "cell_type": "code",
      "source": [
        "_default_block_size_ = 5000000  # the chunking size\n",
        "_xor_salt_len_ = 7  # 94^8 combinations\n",
        "_default_pass_depth_ = 100000  # the hash loop depth\n",
        "_b94set_ = \"0123456789ABCDEFGHIJKLMNOPQRSTUVWXYZabcdefghijklmnopqrstuvwxyz+/`!\\\"$%^&*() -=[{]};:'@#~\\\\|,<.>?\"\n",
        "_b96set_ = _b94set_+\"¬£\""
      ],
      "metadata": {
        "id": "EPk7N23j497H"
      },
      "execution_count": 2,
      "outputs": []
    },
    {
      "cell_type": "code",
      "source": [
        "# generate a random base 96 string of a given length\n",
        "def rand_b96_str(num):\n",
        "    return \"\".join(choices(_b96set_, k=int(num)))"
      ],
      "metadata": {
        "id": "BVJHDMGU5Bve"
      },
      "execution_count": 3,
      "outputs": []
    },
    {
      "cell_type": "code",
      "source": [
        "# convert a string to another base\n",
        "def to_base(base_to, base_fr, hex_to_convert):\n",
        "    decimal, power = 0, len(str(hex_to_convert))-1\n",
        "    for digit in str(hex_to_convert):\n",
        "        decimal += _b96set_.index(digit)*base_fr**power\n",
        "        power -= 1\n",
        "    hexadecimal = \"\"\n",
        "    while decimal > 0:\n",
        "        hexadecimal, decimal = _b96set_[decimal % base_to]+hexadecimal, decimal//base_to\n",
        "    return hexadecimal"
      ],
      "metadata": {
        "id": "n_Rxangz5FYf"
      },
      "execution_count": 4,
      "outputs": []
    },
    {
      "cell_type": "code",
      "source": [
        "# attempts to find the base of an input string\n",
        "def get_base(data_to_resolve):\n",
        "    for i in range(96):\n",
        "        if to_base(i+2, i+2, data_to_resolve) == data_to_resolve:\n",
        "            return i+2"
      ],
      "metadata": {
        "id": "kxRW3aCb5MdH"
      },
      "execution_count": 5,
      "outputs": []
    },
    {
      "cell_type": "code",
      "source": [
        "# turns a password and salt into a key\n",
        "# used to save a key so encryption/decryption does not require the generation of a key each time\n",
        "# can also be used as a string hider to hide data other than a password\n",
        "def pass_to_key(password, salt, depth=1):\n",
        "    password, salt = password.encode(), salt.encode()\n",
        "    for i in range(depth):\n",
        "        password = sha512(password+salt).digest()\n",
        "    return to_base(96, 16, password.hex())"
      ],
      "metadata": {
        "id": "t1EKTCjz5QB3"
      },
      "execution_count": 6,
      "outputs": []
    },
    {
      "cell_type": "code",
      "source": [
        "# generates a key of equal length to the data then xor the data with the key\n",
        "def _xor_(data, key, xor_salt):\n",
        "    key_value, key = [], key.encode()\n",
        "    for i in range((len(data)//64)+1):\n",
        "        key = sha512(key+xor_salt).digest()\n",
        "        key_value.append(key)\n",
        "    key = b\"\".join(key_value)[:len(data)]\n",
        "    return (int.from_bytes(data, byteorder) ^ int.from_bytes(key, byteorder)).to_bytes(len(data), byteorder)"
      ],
      "metadata": {
        "id": "zlt2gu_A5RBP"
      },
      "execution_count": 7,
      "outputs": []
    },
    {
      "cell_type": "code",
      "source": [
        "def _encrypter_(enc, text, key, block_size, compressor, file_output=None):\n",
        "    if enc:\n",
        "        if type(text) != bytes:\n",
        "            text = text.encode()\n",
        "        if compressor:\n",
        "            text = compress(text, 9)\n",
        "        xor_salt = \"\".join(choices(_b94set_, k=_xor_salt_len_)).encode()\n",
        "    else:\n",
        "        xor_salt, text = text[:_xor_salt_len_], text[_xor_salt_len_:]\n",
        "    if len(text)//block_size < 11:\n",
        "        if enc:\n",
        "            return xor_salt+_xor_(text, key, xor_salt)\n",
        "        else:\n",
        "            if compressor:\n",
        "                block = decompress(_xor_(text, key, xor_salt))\n",
        "            else:\n",
        "                block = _xor_(text, key, xor_salt)\n",
        "            try:\n",
        "                return block.decode()\n",
        "            except UnicodeDecodeError:\n",
        "                return block\n",
        "    else:\n",
        "        text = [text[i:i+block_size] for i in range(0, len(text), block_size)]\n",
        "        print(f\"Generating {len(text)} block keys\")\n",
        "        key1, alpha_gen, counter, keys_salt = int(to_base(16, 96, key), 36), _b94set_, 0, \"\"\n",
        "        while len(alpha_gen) > 0:\n",
        "            counter += 2\n",
        "            value = int(str(key1)[counter:counter+2]) << 1\n",
        "            while value > len(alpha_gen) - 1:\n",
        "                value = value // 2\n",
        "            if len(str(key1)[counter:]) < 2:\n",
        "                keys_salt += alpha_gen\n",
        "                alpha_gen = alpha_gen.replace(alpha_gen, \"\")\n",
        "            else:\n",
        "                chosen = alpha_gen[value]\n",
        "                keys_salt += chosen\n",
        "                alpha_gen = alpha_gen.replace(chosen, \"\")\n",
        "        block_keys = []\n",
        "        for i in range(len(text)):\n",
        "            key = pass_to_key(key, keys_salt, 1)\n",
        "            block_keys.append(key)\n",
        "        print(f\"Launching {len(text)} threads\")\n",
        "        pool = Pool(cpu_count())\n",
        "        result_objects = [pool.apply_async(_xor_, args=(text[x], block_keys[x], xor_salt))\n",
        "                          for x in range(0, len(text))]\n",
        "        pool.close()\n",
        "        if file_output:\n",
        "            if enc:\n",
        "                with open(file_output, \"wb\") as f:\n",
        "                    for loop, result in enumerate(result_objects):\n",
        "                        if loop == 0:\n",
        "                            data = xor_salt+result.get()\n",
        "                            f.write(data)\n",
        "                        else:\n",
        "                            f.write(result.get())\n",
        "            else:\n",
        "                d_data = [x.get() for x in result_objects]\n",
        "                if type(d_data[0]) == bytes:\n",
        "                    with open(f\"{file_output}\", \"wb\") as f:\n",
        "                        for block in d_data:\n",
        "                            f.write(block)\n",
        "                if type(d_data[0]) == str:\n",
        "                    with open(f\"{file_output}\", \"w\", encoding=\"utf-8\") as f:\n",
        "                        for block in d_data:\n",
        "                            f.write(block.replace(\"\\r\", \"\"))\n",
        "                if compressor:\n",
        "                    with open(f\"{file_output}\", \"rb\") as f:\n",
        "                        data = decompress(f.read())\n",
        "                    with open(f\"{file_output}\", \"wb\") as f:\n",
        "                        f.write(data)\n",
        "            pool.join()\n",
        "        else:\n",
        "            d_data = b\"\"\n",
        "            for result in result_objects:\n",
        "                d_data += result.get()\n",
        "            if enc:\n",
        "                d_data = xor_salt + d_data\n",
        "            else:\n",
        "                if compressor:\n",
        "                    d_data = decompress(d_data)\n",
        "                try:\n",
        "                    d_data = d_data.decode()\n",
        "                except UnicodeDecodeError:\n",
        "                    pass\n",
        "            pool.join()\n",
        "            return d_data"
      ],
      "metadata": {
        "id": "4dc8RGEK5UdO"
      },
      "execution_count": 8,
      "outputs": []
    },
    {
      "cell_type": "code",
      "source": [
        "# returns the file size of a file in standard units\n",
        "def get_file_size(file):\n",
        "    size, power, n = [getsize(file), 2 ** 10, 0]\n",
        "    power_labels = {0: '', 1: 'KB', 2: 'MB', 3: 'GB', 4: 'TB'}\n",
        "    while size > power:\n",
        "        size /= power\n",
        "        n += 1\n",
        "    return f\"{round(size, 2)}{power_labels[n]}\""
      ],
      "metadata": {
        "id": "jQVFEZp65c1X"
      },
      "execution_count": 9,
      "outputs": []
    },
    {
      "cell_type": "code",
      "source": [
        "# a wrapper for the encrypter function to support file encryption and decryption\n",
        "def _file_encrypter_(enc, file, key, file_output, compressor):\n",
        "    start = perf_counter()\n",
        "    if exists(file):\n",
        "        file_name = file.split(\"/\")[-1].split(\".\")[:-1]  # file_type = file.split(\"/\")[-1].split(\".\")[-1:]\n",
        "        print(f\"{file_name} is {get_file_size(file)}, should take {round(getsize(file)/136731168.599, 2)}s\")\n",
        "        with open(file, 'rb') as hash_file:\n",
        "            data = hash_file.read()\n",
        "        _encrypter_(enc, data, key, _default_block_size_, compressor, file_output)\n",
        "        print(f\"ENC/DEC COMPLETE OF {get_file_size(file)} IN {round(perf_counter()-start, 2)}s\")\n",
        "    else:\n",
        "        return \"File not found\""
      ],
      "metadata": {
        "id": "OgzN2WML5dav"
      },
      "execution_count": 10,
      "outputs": []
    },
    {
      "cell_type": "code",
      "source": [
        "# uses a pre-generated key to encrypt data\n",
        "def enc_from_key(text, key, block_size=_default_block_size_):\n",
        "    return _encrypter_(True, text, key, block_size, True)"
      ],
      "metadata": {
        "id": "HZTE0jWu52yf"
      },
      "execution_count": 11,
      "outputs": []
    },
    {
      "cell_type": "code",
      "source": [
        "# encrypts data\n",
        "def enc_from_pass(text, password, salt, depth=_default_pass_depth_, block_size=_default_block_size_):\n",
        "    return _encrypter_(True, text, pass_to_key(password, salt, depth), block_size, True)"
      ],
      "metadata": {
        "id": "lebDko2h57Q_"
      },
      "execution_count": 12,
      "outputs": []
    },
    {
      "cell_type": "code",
      "source": [
        "# decrypts data\n",
        "def dec_from_pass(e_text, password, salt, depth=_default_pass_depth_, block_size=_default_block_size_):\n",
        "    return _encrypter_(False, e_text, pass_to_key(password, salt, depth), block_size, True)"
      ],
      "metadata": {
        "id": "ZAZbp0_v6Bdp"
      },
      "execution_count": 13,
      "outputs": []
    },
    {
      "cell_type": "code",
      "source": [
        "# uses a pre-generated key to decrypt data\n",
        "def dec_from_key(e_text, key, block_size=_default_block_size_):\n",
        "    return _encrypter_(False, e_text, key, block_size, True)"
      ],
      "metadata": {
        "id": "JpBDkSuh6Egh"
      },
      "execution_count": 14,
      "outputs": []
    },
    {
      "cell_type": "code",
      "source": [
        "# encrypts a file\n",
        "def enc_file_from_pass(file, password, salt, file_output, depth=_default_pass_depth_, compressor=False):\n",
        "    return _file_encrypter_(True, file, pass_to_key(password, salt, depth), file_output, compressor)"
      ],
      "metadata": {
        "id": "fQSH1SJN6HlZ"
      },
      "execution_count": 15,
      "outputs": []
    },
    {
      "cell_type": "code",
      "source": [
        "# decrypts a file\n",
        "def dec_file_from_pass(e_file, password, salt, file_output, depth=_default_pass_depth_, compressor=False):\n",
        "    return _file_encrypter_(False, e_file, pass_to_key(password, salt, depth), file_output, compressor)"
      ],
      "metadata": {
        "id": "d_j1Tztg6Ks5"
      },
      "execution_count": 16,
      "outputs": []
    },
    {
      "cell_type": "code",
      "source": [
        "# rounds dt to an amount of seconds\n",
        "# this function can be used to create a time based key system\n",
        "def round_time(dt=None, round_to=30):\n",
        "    if not dt:\n",
        "        dt = datetime.now()\n",
        "    seconds = (dt.replace(tzinfo=None)-dt.min).seconds\n",
        "    return dt+timedelta(0, (seconds+round_to/2)//round_to*round_to-seconds, -dt.microsecond)"
      ],
      "metadata": {
        "id": "EVtxb8e96MnR"
      },
      "execution_count": 17,
      "outputs": []
    },
    {
      "cell_type": "code",
      "source": [
        "# hashes a file using the SHA512 algorithm\n",
        "def hash_a_file(file):\n",
        "    hash_ = sha512()\n",
        "    with open(file, 'rb') as hash_file:\n",
        "        buf = hash_file.read(262144)\n",
        "        while len(buf) > 0:\n",
        "            hash_.update(buf)\n",
        "            buf = hash_file.read(262144)\n",
        "    return to_base(96, 16, hash_.hexdigest())"
      ],
      "metadata": {
        "id": "HFkbyT0U6Qkf"
      },
      "execution_count": 18,
      "outputs": []
    }
  ]
}